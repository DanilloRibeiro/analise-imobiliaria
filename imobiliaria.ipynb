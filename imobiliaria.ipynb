{
 "cells": [
  {
   "cell_type": "code",
   "execution_count": 4,
   "metadata": {
    "id": "D3bya63_V7FJ"
   },
   "outputs": [],
   "source": [
    "import pandas as pd\n",
    "import re\n",
    "import numpy as np\n",
    "import matplotlib.pyplot as plt\n",
    "import seaborn as sns\n",
    "import geopandas as gpd"
   ]
  },
  {
   "cell_type": "code",
   "execution_count": 5,
   "metadata": {
    "colab": {
     "base_uri": "https://localhost:8080/",
     "height": 356
    },
    "id": "aNUYtf3wXLyA",
    "outputId": "d71f03f0-cc73-4681-f79c-a9c2829f7b21"
   },
   "outputs": [
    {
     "data": {
      "text/html": [
       "<div>\n",
       "<style scoped>\n",
       "    .dataframe tbody tr th:only-of-type {\n",
       "        vertical-align: middle;\n",
       "    }\n",
       "\n",
       "    .dataframe tbody tr th {\n",
       "        vertical-align: top;\n",
       "    }\n",
       "\n",
       "    .dataframe thead th {\n",
       "        text-align: right;\n",
       "    }\n",
       "</style>\n",
       "<table border=\"1\" class=\"dataframe\">\n",
       "  <thead>\n",
       "    <tr style=\"text-align: right;\">\n",
       "      <th></th>\n",
       "      <th>Nome</th>\n",
       "      <th>Sobrenome</th>\n",
       "      <th>Email</th>\n",
       "      <th>UF</th>\n",
       "      <th>Cidade</th>\n",
       "      <th>Genero</th>\n",
       "      <th>Renda Média</th>\n",
       "      <th>Escolaridade</th>\n",
       "      <th>Estado Civil</th>\n",
       "    </tr>\n",
       "  </thead>\n",
       "  <tbody>\n",
       "    <tr>\n",
       "      <th>0</th>\n",
       "      <td>Sergio</td>\n",
       "      <td>Costa</td>\n",
       "      <td>eduardo.oliveira@exemplo.com</td>\n",
       "      <td>DF</td>\n",
       "      <td>Brasília</td>\n",
       "      <td>Masculino</td>\n",
       "      <td>R$ 6.001 - R$ 8.000</td>\n",
       "      <td>Ensino Superior</td>\n",
       "      <td>Viúvo(a)</td>\n",
       "    </tr>\n",
       "    <tr>\n",
       "      <th>1</th>\n",
       "      <td>Eduardo</td>\n",
       "      <td>Melo</td>\n",
       "      <td>quintino.melo@exemplo.com</td>\n",
       "      <td>PE</td>\n",
       "      <td>Recife</td>\n",
       "      <td>Masculino</td>\n",
       "      <td>R$ 6.001 - R$ 8.000</td>\n",
       "      <td>Doutorado</td>\n",
       "      <td>Divorciado(a)</td>\n",
       "    </tr>\n",
       "    <tr>\n",
       "      <th>2</th>\n",
       "      <td>Sergio</td>\n",
       "      <td>Pereira</td>\n",
       "      <td>olivia.freitas@exemplo.com</td>\n",
       "      <td>CE</td>\n",
       "      <td>Fortaleza</td>\n",
       "      <td>Feminino</td>\n",
       "      <td>R$ 2.001 - R$ 4.000</td>\n",
       "      <td>Ensino Médio</td>\n",
       "      <td>Solteiro(a)</td>\n",
       "    </tr>\n",
       "    <tr>\n",
       "      <th>3</th>\n",
       "      <td>Gustavo</td>\n",
       "      <td>Oliveira</td>\n",
       "      <td>gustavo.melo@exemplo.com</td>\n",
       "      <td>SP</td>\n",
       "      <td>São Paulo</td>\n",
       "      <td>Feminino</td>\n",
       "      <td>R$ 2.001 - R$ 4.000</td>\n",
       "      <td>Doutorado</td>\n",
       "      <td>Viúvo(a)</td>\n",
       "    </tr>\n",
       "    <tr>\n",
       "      <th>4</th>\n",
       "      <td>Juliana</td>\n",
       "      <td>Oliveira</td>\n",
       "      <td>carlos.almeida@exemplo.com</td>\n",
       "      <td>DF</td>\n",
       "      <td>Brasília</td>\n",
       "      <td>Masculino</td>\n",
       "      <td>Acima de R$ 10.000</td>\n",
       "      <td>Ensino Superior</td>\n",
       "      <td>Divorciado(a)</td>\n",
       "    </tr>\n",
       "  </tbody>\n",
       "</table>\n",
       "</div>"
      ],
      "text/plain": [
       "      Nome Sobrenome                         Email  UF     Cidade     Genero  \\\n",
       "0   Sergio     Costa  eduardo.oliveira@exemplo.com  DF   Brasília  Masculino   \n",
       "1  Eduardo      Melo     quintino.melo@exemplo.com  PE     Recife  Masculino   \n",
       "2   Sergio   Pereira    olivia.freitas@exemplo.com  CE  Fortaleza   Feminino   \n",
       "3  Gustavo  Oliveira      gustavo.melo@exemplo.com  SP  São Paulo   Feminino   \n",
       "4  Juliana  Oliveira    carlos.almeida@exemplo.com  DF   Brasília  Masculino   \n",
       "\n",
       "           Renda Média     Escolaridade   Estado Civil  \n",
       "0  R$ 6.001 - R$ 8.000  Ensino Superior       Viúvo(a)  \n",
       "1  R$ 6.001 - R$ 8.000        Doutorado  Divorciado(a)  \n",
       "2  R$ 2.001 - R$ 4.000     Ensino Médio    Solteiro(a)  \n",
       "3  R$ 2.001 - R$ 4.000        Doutorado       Viúvo(a)  \n",
       "4   Acima de R$ 10.000  Ensino Superior  Divorciado(a)  "
      ]
     },
     "execution_count": 5,
     "metadata": {},
     "output_type": "execute_result"
    }
   ],
   "source": [
    "# Disponibilizando a tabela\n",
    "\n",
    "df_original = pd.read_csv('Dataset')\n",
    "df_original.head()"
   ]
  },
  {
   "cell_type": "code",
   "execution_count": 6,
   "metadata": {
    "id": "R8y1BUv_XfZn"
   },
   "outputs": [
    {
     "name": "stdout",
     "output_type": "stream",
     "text": [
      "<class 'pandas.core.frame.DataFrame'>\n",
      "RangeIndex: 1000 entries, 0 to 999\n",
      "Data columns (total 9 columns):\n",
      " #   Column        Non-Null Count  Dtype \n",
      "---  ------        --------------  ----- \n",
      " 0   Nome          1000 non-null   object\n",
      " 1   Sobrenome     1000 non-null   object\n",
      " 2   Email         1000 non-null   object\n",
      " 3   UF            1000 non-null   object\n",
      " 4   Cidade        1000 non-null   object\n",
      " 5   Genero        1000 non-null   object\n",
      " 6   Renda Média   1000 non-null   object\n",
      " 7   Escolaridade  1000 non-null   object\n",
      " 8   Estado Civil  1000 non-null   object\n",
      "dtypes: object(9)\n",
      "memory usage: 70.4+ KB\n"
     ]
    }
   ],
   "source": [
    "# Verificando os tipos das colunas e se há elementos nulos\n",
    "\n",
    "df_original.info()"
   ]
  },
  {
   "cell_type": "code",
   "execution_count": 7,
   "metadata": {
    "id": "MCqjdKu8XfTP"
   },
   "outputs": [
    {
     "name": "stdout",
     "output_type": "stream",
     "text": [
      "Empty DataFrame\n",
      "Columns: [Nome, Sobrenome, Email, UF, Cidade, Genero, Renda Média, Escolaridade, Estado Civil]\n",
      "Index: []\n"
     ]
    }
   ],
   "source": [
    "#Verificando se há duplicatas\n",
    "duplicatas = df_original[df_original.duplicated()]\n",
    "print(duplicatas)"
   ]
  },
  {
   "cell_type": "markdown",
   "metadata": {
    "id": "KyrhHx-DXlGX"
   },
   "source": [
    "**1 - Distribuição de Renda por Estado (UF):** Analisar a média e a mediana de renda por estado para identificar onde se concentram clientes com maior poder aquisitivo."
   ]
  },
  {
   "cell_type": "code",
   "execution_count": 8,
   "metadata": {
    "id": "qOUssoVTXfKM"
   },
   "outputs": [
    {
     "name": "stdout",
     "output_type": "stream",
     "text": [
      "           mean  median\n",
      "UF                     \n",
      "RN  6930.581395  9000.5\n",
      "AM  6417.041667  7000.5\n",
      "PE  6414.163793  7000.5\n",
      "DF  6394.538462  7000.5\n",
      "MA  6348.571429  7000.5\n",
      "GO  6345.800000  7000.5\n",
      "BA  6307.204545  7000.5\n",
      "SC  6158.271930  7000.5\n",
      "RJ  6097.120968  7000.5\n",
      "TO  5928.901786  5000.5\n",
      "MS  5884.413043  5000.5\n",
      "CE  5863.972727  5000.5\n",
      "SP  5837.040816  7000.5\n",
      "MG  5830.906780  5000.5\n",
      "PI  5690.873016  5000.5\n",
      "PR  5609.445455  5000.5\n",
      "RS  5583.656250  5000.5\n",
      "PA  5510.978723  5000.5\n"
     ]
    }
   ],
   "source": [
    "# Função para converter faixas de renda em valores numéricos\n",
    "def converter_renda(renda):\n",
    "    renda = renda.replace('R$', '').replace('.', '').strip()\n",
    "    if 'Acima' in renda:\n",
    "        return 10000  # Representando \"Acima de R$ 10.000\" como 10.000\n",
    "    elif 'Até' in renda:\n",
    "        return 1000  # Representando \"Até R$ 1.000\" como 1.000\n",
    "    else:\n",
    "        valores = renda.split(' - ')\n",
    "        return (int(valores[0]) + int(valores[1])) / 2\n",
    "\n",
    "# Aplicando a função de conversão na coluna 'Renda Média'\n",
    "df_original['Renda Média Numérica'] = df_original['Renda Média'].apply(converter_renda)\n",
    "\n",
    "# Calculando a média e a mediana de renda por estado (UF)\n",
    "renda_estado = df_original.groupby('UF')['Renda Média Numérica'].agg(['mean', 'median']).sort_values(by='mean', ascending=False)\n",
    "\n",
    "print(renda_estado)"
   ]
  },
  {
   "cell_type": "markdown",
   "metadata": {
    "id": "N2bKZCR6YBiY"
   },
   "source": [
    "**2 - Segmentação de Clientes por Estado Civil e Gênero:** Identificar a proporção de clientes casados, solteiros e divorciados por gênero e gerar gráficos comparativos. Essa análise pode ajudar a segmentar melhor campanhas direcionadas."
   ]
  },
  {
   "cell_type": "code",
   "execution_count": 9,
   "metadata": {
    "id": "uBEPjMlGCRKD"
   },
   "outputs": [
    {
     "name": "stdout",
     "output_type": "stream",
     "text": [
      "Genero          Feminino  Masculino\n",
      "Estado Civil                       \n",
      "Casado(a)      52.765957  47.234043\n",
      "Divorciado(a)  45.769231  54.230769\n",
      "Solteiro(a)    53.200000  46.800000\n",
      "Viúvo(a)       49.019608  50.980392\n"
     ]
    },
    {
     "data": {
      "text/plain": [
       "<Figure size 1000x600 with 0 Axes>"
      ]
     },
     "metadata": {},
     "output_type": "display_data"
    },
    {
     "data": {
      "image/png": "[encoded data removed]",
      "text/plain": [
       "<Figure size 640x480 with 1 Axes>"
      ]
     },
     "metadata": {},
     "output_type": "display_data"
    }
   ],
   "source": [
    "# Contando o número de clientes por Estado Civil e Gênero\n",
    "segmentacao_estado_genero = df_original.groupby(['Estado Civil', 'Genero']).size().unstack()\n",
    "\n",
    "# Calculando a proporção de clientes por Estado Civil e Gênero\n",
    "proporcao_estado_genero = segmentacao_estado_genero.div(segmentacao_estado_genero.sum(axis=1), axis=0) * 100\n",
    "\n",
    "print(proporcao_estado_genero)\n",
    "\n",
    "# Criando gráfico de barras laterais com cores personalizadas\n",
    "plt.figure(figsize=(10, 6))\n",
    "proporcao_estado_genero.plot(kind='bar', stacked=False, color=['#ee82ee', '#000080'])\n",
    "plt.title('Proporção de Clientes por Estado Civil e Gênero')\n",
    "plt.xlabel('Estado Civil')\n",
    "plt.ylabel('Proporção (%)')\n",
    "plt.legend(title='Gênero')\n",
    "plt.xticks(rotation=45)\n",
    "plt.tight_layout()\n",
    "\n",
    "plt.show()"
   ]
  },
  {
   "cell_type": "markdown",
   "metadata": {
    "id": "Z0n50e2rMHha"
   },
   "source": [
    "**3 - Distribuição Geográfica dos Clientes:** Criar um mapa de calor para visualizar a concentração de clientes em diferentes cidades e estados, permitindo identificar regiões com maior presença."
   ]
  },
  {
   "cell_type": "code",
   "execution_count": 10,
   "metadata": {
    "id": "101tWOxAW-ZZ"
   },
   "outputs": [
    {
     "data": {
      "text/html": [
       "<div>\n",
       "<style scoped>\n",
       "    .dataframe tbody tr th:only-of-type {\n",
       "        vertical-align: middle;\n",
       "    }\n",
       "\n",
       "    .dataframe tbody tr th {\n",
       "        vertical-align: top;\n",
       "    }\n",
       "\n",
       "    .dataframe thead th {\n",
       "        text-align: right;\n",
       "    }\n",
       "</style>\n",
       "<table border=\"1\" class=\"dataframe\">\n",
       "  <thead>\n",
       "    <tr style=\"text-align: right;\">\n",
       "      <th></th>\n",
       "      <th>count</th>\n",
       "    </tr>\n",
       "    <tr>\n",
       "      <th>UF</th>\n",
       "      <th></th>\n",
       "    </tr>\n",
       "  </thead>\n",
       "  <tbody>\n",
       "    <tr>\n",
       "      <th>AM</th>\n",
       "      <td>72</td>\n",
       "    </tr>\n",
       "    <tr>\n",
       "      <th>MS</th>\n",
       "      <td>69</td>\n",
       "    </tr>\n",
       "    <tr>\n",
       "      <th>PI</th>\n",
       "      <td>63</td>\n",
       "    </tr>\n",
       "    <tr>\n",
       "      <th>RJ</th>\n",
       "      <td>62</td>\n",
       "    </tr>\n",
       "    <tr>\n",
       "      <th>MG</th>\n",
       "      <td>59</td>\n",
       "    </tr>\n",
       "    <tr>\n",
       "      <th>PE</th>\n",
       "      <td>58</td>\n",
       "    </tr>\n",
       "    <tr>\n",
       "      <th>SC</th>\n",
       "      <td>57</td>\n",
       "    </tr>\n",
       "    <tr>\n",
       "      <th>TO</th>\n",
       "      <td>56</td>\n",
       "    </tr>\n",
       "    <tr>\n",
       "      <th>MA</th>\n",
       "      <td>56</td>\n",
       "    </tr>\n",
       "    <tr>\n",
       "      <th>GO</th>\n",
       "      <td>55</td>\n",
       "    </tr>\n",
       "    <tr>\n",
       "      <th>PR</th>\n",
       "      <td>55</td>\n",
       "    </tr>\n",
       "    <tr>\n",
       "      <th>CE</th>\n",
       "      <td>55</td>\n",
       "    </tr>\n",
       "    <tr>\n",
       "      <th>DF</th>\n",
       "      <td>52</td>\n",
       "    </tr>\n",
       "    <tr>\n",
       "      <th>SP</th>\n",
       "      <td>49</td>\n",
       "    </tr>\n",
       "    <tr>\n",
       "      <th>RS</th>\n",
       "      <td>48</td>\n",
       "    </tr>\n",
       "    <tr>\n",
       "      <th>PA</th>\n",
       "      <td>47</td>\n",
       "    </tr>\n",
       "    <tr>\n",
       "      <th>BA</th>\n",
       "      <td>44</td>\n",
       "    </tr>\n",
       "    <tr>\n",
       "      <th>RN</th>\n",
       "      <td>43</td>\n",
       "    </tr>\n",
       "  </tbody>\n",
       "</table>\n",
       "</div>"
      ],
      "text/plain": [
       "    count\n",
       "UF       \n",
       "AM     72\n",
       "MS     69\n",
       "PI     63\n",
       "RJ     62\n",
       "MG     59\n",
       "PE     58\n",
       "SC     57\n",
       "TO     56\n",
       "MA     56\n",
       "GO     55\n",
       "PR     55\n",
       "CE     55\n",
       "DF     52\n",
       "SP     49\n",
       "RS     48\n",
       "PA     47\n",
       "BA     44\n",
       "RN     43"
      ]
     },
     "execution_count": 10,
     "metadata": {},
     "output_type": "execute_result"
    }
   ],
   "source": [
    "# Contando o número de clientes por estado (UF)\n",
    "clientes_por_uf = pd.DataFrame(df_original['UF'].value_counts())\n",
    "\n",
    "# Clientes por estado\n",
    "clientes_por_uf"
   ]
  },
  {
   "cell_type": "code",
   "execution_count": 11,
   "metadata": {
    "id": "QSC6dusFrsOh"
   },
   "outputs": [
    {
     "data": {
      "text/html": [
       "<div>\n",
       "<style scoped>\n",
       "    .dataframe tbody tr th:only-of-type {\n",
       "        vertical-align: middle;\n",
       "    }\n",
       "\n",
       "    .dataframe tbody tr th {\n",
       "        vertical-align: top;\n",
       "    }\n",
       "\n",
       "    .dataframe thead th {\n",
       "        text-align: right;\n",
       "    }\n",
       "</style>\n",
       "<table border=\"1\" class=\"dataframe\">\n",
       "  <thead>\n",
       "    <tr style=\"text-align: right;\">\n",
       "      <th></th>\n",
       "      <th>sigla</th>\n",
       "      <th>value</th>\n",
       "    </tr>\n",
       "    <tr>\n",
       "      <th>UF</th>\n",
       "      <th></th>\n",
       "      <th></th>\n",
       "    </tr>\n",
       "  </thead>\n",
       "  <tbody>\n",
       "    <tr>\n",
       "      <th>AM</th>\n",
       "      <td>AM</td>\n",
       "      <td>72</td>\n",
       "    </tr>\n",
       "    <tr>\n",
       "      <th>MS</th>\n",
       "      <td>MS</td>\n",
       "      <td>69</td>\n",
       "    </tr>\n",
       "    <tr>\n",
       "      <th>PI</th>\n",
       "      <td>PI</td>\n",
       "      <td>63</td>\n",
       "    </tr>\n",
       "    <tr>\n",
       "      <th>RJ</th>\n",
       "      <td>RJ</td>\n",
       "      <td>62</td>\n",
       "    </tr>\n",
       "    <tr>\n",
       "      <th>MG</th>\n",
       "      <td>MG</td>\n",
       "      <td>59</td>\n",
       "    </tr>\n",
       "    <tr>\n",
       "      <th>PE</th>\n",
       "      <td>PE</td>\n",
       "      <td>58</td>\n",
       "    </tr>\n",
       "    <tr>\n",
       "      <th>SC</th>\n",
       "      <td>SC</td>\n",
       "      <td>57</td>\n",
       "    </tr>\n",
       "    <tr>\n",
       "      <th>TO</th>\n",
       "      <td>TO</td>\n",
       "      <td>56</td>\n",
       "    </tr>\n",
       "    <tr>\n",
       "      <th>MA</th>\n",
       "      <td>MA</td>\n",
       "      <td>56</td>\n",
       "    </tr>\n",
       "    <tr>\n",
       "      <th>GO</th>\n",
       "      <td>GO</td>\n",
       "      <td>55</td>\n",
       "    </tr>\n",
       "    <tr>\n",
       "      <th>PR</th>\n",
       "      <td>PR</td>\n",
       "      <td>55</td>\n",
       "    </tr>\n",
       "    <tr>\n",
       "      <th>CE</th>\n",
       "      <td>CE</td>\n",
       "      <td>55</td>\n",
       "    </tr>\n",
       "    <tr>\n",
       "      <th>DF</th>\n",
       "      <td>DF</td>\n",
       "      <td>52</td>\n",
       "    </tr>\n",
       "    <tr>\n",
       "      <th>SP</th>\n",
       "      <td>SP</td>\n",
       "      <td>49</td>\n",
       "    </tr>\n",
       "    <tr>\n",
       "      <th>RS</th>\n",
       "      <td>RS</td>\n",
       "      <td>48</td>\n",
       "    </tr>\n",
       "    <tr>\n",
       "      <th>PA</th>\n",
       "      <td>PA</td>\n",
       "      <td>47</td>\n",
       "    </tr>\n",
       "    <tr>\n",
       "      <th>BA</th>\n",
       "      <td>BA</td>\n",
       "      <td>44</td>\n",
       "    </tr>\n",
       "    <tr>\n",
       "      <th>RN</th>\n",
       "      <td>RN</td>\n",
       "      <td>43</td>\n",
       "    </tr>\n",
       "  </tbody>\n",
       "</table>\n",
       "</div>"
      ],
      "text/plain": [
       "   sigla  value\n",
       "UF             \n",
       "AM    AM     72\n",
       "MS    MS     69\n",
       "PI    PI     63\n",
       "RJ    RJ     62\n",
       "MG    MG     59\n",
       "PE    PE     58\n",
       "SC    SC     57\n",
       "TO    TO     56\n",
       "MA    MA     56\n",
       "GO    GO     55\n",
       "PR    PR     55\n",
       "CE    CE     55\n",
       "DF    DF     52\n",
       "SP    SP     49\n",
       "RS    RS     48\n",
       "PA    PA     47\n",
       "BA    BA     44\n",
       "RN    RN     43"
      ]
     },
     "execution_count": 11,
     "metadata": {},
     "output_type": "execute_result"
    }
   ],
   "source": [
    "# Apenas ajustando o dataframe para dar join com o geojson\n",
    "data = {\n",
    "    'sigla': list(clientes_por_uf.index),\n",
    "    'value': clientes_por_uf['count']\n",
    "}\n",
    "data_df = pd.DataFrame(data)\n",
    "data_df"
   ]
  },
  {
   "cell_type": "code",
   "execution_count": 12,
   "metadata": {
    "id": "tSkYGKvXorcm"
   },
   "outputs": [
    {
     "data": {
      "text/plain": [
       "<Axes: ylabel='UF'>"
      ]
     },
     "execution_count": 12,
     "metadata": {},
     "output_type": "execute_result"
    },
    {
     "data": {
      "image/png": "[encoded data removed]",
      "text/plain": [
       "<Figure size 640x480 with 2 Axes>"
      ]
     },
     "metadata": {},
     "output_type": "display_data"
    }
   ],
   "source": [
    "sns.heatmap(pd.DataFrame(clientes_por_uf),annot=True)"
   ]
  },
  {
   "cell_type": "code",
   "execution_count": 14,
   "metadata": {
    "id": "F_3YOOPlfEpf"
   },
   "outputs": [
    {
     "data": {
      "text/html": [
       "<div>\n",
       "<style scoped>\n",
       "    .dataframe tbody tr th:only-of-type {\n",
       "        vertical-align: middle;\n",
       "    }\n",
       "\n",
       "    .dataframe tbody tr th {\n",
       "        vertical-align: top;\n",
       "    }\n",
       "\n",
       "    .dataframe thead th {\n",
       "        text-align: right;\n",
       "    }\n",
       "</style>\n",
       "<table border=\"1\" class=\"dataframe\">\n",
       "  <thead>\n",
       "    <tr style=\"text-align: right;\">\n",
       "      <th></th>\n",
       "      <th>id</th>\n",
       "      <th>name</th>\n",
       "      <th>sigla</th>\n",
       "      <th>regiao_id</th>\n",
       "      <th>codigo_ibg</th>\n",
       "      <th>cartodb_id</th>\n",
       "      <th>created_at</th>\n",
       "      <th>updated_at</th>\n",
       "      <th>geometry</th>\n",
       "    </tr>\n",
       "  </thead>\n",
       "  <tbody>\n",
       "    <tr>\n",
       "      <th>0</th>\n",
       "      <td>1</td>\n",
       "      <td>Acre</td>\n",
       "      <td>AC</td>\n",
       "      <td>3</td>\n",
       "      <td>12</td>\n",
       "      <td>1</td>\n",
       "      <td>2015-02-09 16:46:01+00:00</td>\n",
       "      <td>2015-02-09 16:46:01+00:00</td>\n",
       "      <td>MULTIPOLYGON (((-73.60818 -7.20194, -72.86963 ...</td>\n",
       "    </tr>\n",
       "    <tr>\n",
       "      <th>1</th>\n",
       "      <td>2</td>\n",
       "      <td>Alagoas</td>\n",
       "      <td>AL</td>\n",
       "      <td>4</td>\n",
       "      <td>27</td>\n",
       "      <td>2</td>\n",
       "      <td>2015-02-09 16:46:01+00:00</td>\n",
       "      <td>2015-02-09 16:46:01+00:00</td>\n",
       "      <td>MULTIPOLYGON (((-35.46516 -8.82549, -35.46626 ...</td>\n",
       "    </tr>\n",
       "    <tr>\n",
       "      <th>2</th>\n",
       "      <td>3</td>\n",
       "      <td>Amazonas</td>\n",
       "      <td>AM</td>\n",
       "      <td>3</td>\n",
       "      <td>13</td>\n",
       "      <td>3</td>\n",
       "      <td>2015-02-09 16:46:01+00:00</td>\n",
       "      <td>2015-02-09 16:46:01+00:00</td>\n",
       "      <td>MULTIPOLYGON (((-67.32553 2.03012, -67.32234 2...</td>\n",
       "    </tr>\n",
       "    <tr>\n",
       "      <th>3</th>\n",
       "      <td>4</td>\n",
       "      <td>Amapá</td>\n",
       "      <td>AP</td>\n",
       "      <td>3</td>\n",
       "      <td>16</td>\n",
       "      <td>4</td>\n",
       "      <td>2015-02-09 16:46:01+00:00</td>\n",
       "      <td>2015-02-09 16:46:01+00:00</td>\n",
       "      <td>MULTIPOLYGON (((-51.18168 4.00889, -51.179 3.9...</td>\n",
       "    </tr>\n",
       "    <tr>\n",
       "      <th>4</th>\n",
       "      <td>5</td>\n",
       "      <td>Bahia</td>\n",
       "      <td>BA</td>\n",
       "      <td>4</td>\n",
       "      <td>29</td>\n",
       "      <td>5</td>\n",
       "      <td>2015-02-09 16:46:01+00:00</td>\n",
       "      <td>2015-02-09 16:46:01+00:00</td>\n",
       "      <td>MULTIPOLYGON (((-39.2882 -8.5629, -39.28229 -8...</td>\n",
       "    </tr>\n",
       "  </tbody>\n",
       "</table>\n",
       "</div>"
      ],
      "text/plain": [
       "   id      name sigla regiao_id codigo_ibg  cartodb_id  \\\n",
       "0   1      Acre    AC         3         12           1   \n",
       "1   2   Alagoas    AL         4         27           2   \n",
       "2   3  Amazonas    AM         3         13           3   \n",
       "3   4     Amapá    AP         3         16           4   \n",
       "4   5     Bahia    BA         4         29           5   \n",
       "\n",
       "                 created_at                updated_at  \\\n",
       "0 2015-02-09 16:46:01+00:00 2015-02-09 16:46:01+00:00   \n",
       "1 2015-02-09 16:46:01+00:00 2015-02-09 16:46:01+00:00   \n",
       "2 2015-02-09 16:46:01+00:00 2015-02-09 16:46:01+00:00   \n",
       "3 2015-02-09 16:46:01+00:00 2015-02-09 16:46:01+00:00   \n",
       "4 2015-02-09 16:46:01+00:00 2015-02-09 16:46:01+00:00   \n",
       "\n",
       "                                            geometry  \n",
       "0  MULTIPOLYGON (((-73.60818 -7.20194, -72.86963 ...  \n",
       "1  MULTIPOLYGON (((-35.46516 -8.82549, -35.46626 ...  \n",
       "2  MULTIPOLYGON (((-67.32553 2.03012, -67.32234 2...  \n",
       "3  MULTIPOLYGON (((-51.18168 4.00889, -51.179 3.9...  \n",
       "4  MULTIPOLYGON (((-39.2882 -8.5629, -39.28229 -8...  "
      ]
     },
     "execution_count": 14,
     "metadata": {},
     "output_type": "execute_result"
    }
   ],
   "source": [
    "#TENTATIVA DE MAPA\n",
    "mapa_brasil = gpd.read_file('brazil-states.geojson')\n",
    "\n",
    "# Estrutura do mapa\n",
    "mapa_brasil.head()"
   ]
  },
  {
   "cell_type": "code",
   "execution_count": 15,
   "metadata": {
    "id": "cXLUyLkCgoRZ"
   },
   "outputs": [
    {
     "name": "stdout",
     "output_type": "stream",
     "text": [
      "Index(['id', 'name', 'sigla', 'regiao_id', 'codigo_ibg', 'cartodb_id',\n",
      "       'created_at', 'updated_at', 'geometry'],\n",
      "      dtype='object')\n"
     ]
    }
   ],
   "source": [
    "print(mapa_brasil.columns)"
   ]
  },
  {
   "cell_type": "code",
   "execution_count": 16,
   "metadata": {
    "id": "kVIR9b1dfnuu"
   },
   "outputs": [
    {
     "name": "stderr",
     "output_type": "stream",
     "text": [
      "C:\\Users\\BlueShift\\AppData\\Local\\Temp\\ipykernel_27744\\3093772308.py:8: FutureWarning: A value is trying to be set on a copy of a DataFrame or Series through chained assignment using an inplace method.\n",
      "The behavior will change in pandas 3.0. This inplace method will never work because the intermediate object on which we are setting values always behaves as a copy.\n",
      "\n",
      "For example, when doing 'df[col].method(value, inplace=True)', try using 'df.method({col: value}, inplace=True)' or df[col] = df[col].method(value) instead, to perform the operation inplace on the original object.\n",
      "\n",
      "\n",
      "  mapa_brasil['count'].fillna(0, inplace=True)\n"
     ]
    },
    {
     "data": {
      "text/html": [
       "<div>\n",
       "<style scoped>\n",
       "    .dataframe tbody tr th:only-of-type {\n",
       "        vertical-align: middle;\n",
       "    }\n",
       "\n",
       "    .dataframe tbody tr th {\n",
       "        vertical-align: top;\n",
       "    }\n",
       "\n",
       "    .dataframe thead th {\n",
       "        text-align: right;\n",
       "    }\n",
       "</style>\n",
       "<table border=\"1\" class=\"dataframe\">\n",
       "  <thead>\n",
       "    <tr style=\"text-align: right;\">\n",
       "      <th></th>\n",
       "      <th>id</th>\n",
       "      <th>name</th>\n",
       "      <th>sigla</th>\n",
       "      <th>regiao_id</th>\n",
       "      <th>codigo_ibg</th>\n",
       "      <th>cartodb_id</th>\n",
       "      <th>created_at</th>\n",
       "      <th>updated_at</th>\n",
       "      <th>geometry</th>\n",
       "      <th>count</th>\n",
       "    </tr>\n",
       "  </thead>\n",
       "  <tbody>\n",
       "    <tr>\n",
       "      <th>0</th>\n",
       "      <td>1</td>\n",
       "      <td>Acre</td>\n",
       "      <td>AC</td>\n",
       "      <td>3</td>\n",
       "      <td>12</td>\n",
       "      <td>1</td>\n",
       "      <td>2015-02-09 16:46:01+00:00</td>\n",
       "      <td>2015-02-09 16:46:01+00:00</td>\n",
       "      <td>MULTIPOLYGON (((-73.60818 -7.20194, -72.86963 ...</td>\n",
       "      <td>0.0</td>\n",
       "    </tr>\n",
       "    <tr>\n",
       "      <th>1</th>\n",
       "      <td>2</td>\n",
       "      <td>Alagoas</td>\n",
       "      <td>AL</td>\n",
       "      <td>4</td>\n",
       "      <td>27</td>\n",
       "      <td>2</td>\n",
       "      <td>2015-02-09 16:46:01+00:00</td>\n",
       "      <td>2015-02-09 16:46:01+00:00</td>\n",
       "      <td>MULTIPOLYGON (((-35.46516 -8.82549, -35.46626 ...</td>\n",
       "      <td>0.0</td>\n",
       "    </tr>\n",
       "    <tr>\n",
       "      <th>2</th>\n",
       "      <td>3</td>\n",
       "      <td>Amazonas</td>\n",
       "      <td>AM</td>\n",
       "      <td>3</td>\n",
       "      <td>13</td>\n",
       "      <td>3</td>\n",
       "      <td>2015-02-09 16:46:01+00:00</td>\n",
       "      <td>2015-02-09 16:46:01+00:00</td>\n",
       "      <td>MULTIPOLYGON (((-67.32553 2.03012, -67.32234 2...</td>\n",
       "      <td>72.0</td>\n",
       "    </tr>\n",
       "    <tr>\n",
       "      <th>3</th>\n",
       "      <td>4</td>\n",
       "      <td>Amapá</td>\n",
       "      <td>AP</td>\n",
       "      <td>3</td>\n",
       "      <td>16</td>\n",
       "      <td>4</td>\n",
       "      <td>2015-02-09 16:46:01+00:00</td>\n",
       "      <td>2015-02-09 16:46:01+00:00</td>\n",
       "      <td>MULTIPOLYGON (((-51.18168 4.00889, -51.179 3.9...</td>\n",
       "      <td>0.0</td>\n",
       "    </tr>\n",
       "    <tr>\n",
       "      <th>4</th>\n",
       "      <td>5</td>\n",
       "      <td>Bahia</td>\n",
       "      <td>BA</td>\n",
       "      <td>4</td>\n",
       "      <td>29</td>\n",
       "      <td>5</td>\n",
       "      <td>2015-02-09 16:46:01+00:00</td>\n",
       "      <td>2015-02-09 16:46:01+00:00</td>\n",
       "      <td>MULTIPOLYGON (((-39.2882 -8.5629, -39.28229 -8...</td>\n",
       "      <td>44.0</td>\n",
       "    </tr>\n",
       "  </tbody>\n",
       "</table>\n",
       "</div>"
      ],
      "text/plain": [
       "   id      name sigla regiao_id codigo_ibg  cartodb_id  \\\n",
       "0   1      Acre    AC         3         12           1   \n",
       "1   2   Alagoas    AL         4         27           2   \n",
       "2   3  Amazonas    AM         3         13           3   \n",
       "3   4     Amapá    AP         3         16           4   \n",
       "4   5     Bahia    BA         4         29           5   \n",
       "\n",
       "                 created_at                updated_at  \\\n",
       "0 2015-02-09 16:46:01+00:00 2015-02-09 16:46:01+00:00   \n",
       "1 2015-02-09 16:46:01+00:00 2015-02-09 16:46:01+00:00   \n",
       "2 2015-02-09 16:46:01+00:00 2015-02-09 16:46:01+00:00   \n",
       "3 2015-02-09 16:46:01+00:00 2015-02-09 16:46:01+00:00   \n",
       "4 2015-02-09 16:46:01+00:00 2015-02-09 16:46:01+00:00   \n",
       "\n",
       "                                            geometry  count  \n",
       "0  MULTIPOLYGON (((-73.60818 -7.20194, -72.86963 ...    0.0  \n",
       "1  MULTIPOLYGON (((-35.46516 -8.82549, -35.46626 ...    0.0  \n",
       "2  MULTIPOLYGON (((-67.32553 2.03012, -67.32234 2...   72.0  \n",
       "3  MULTIPOLYGON (((-51.18168 4.00889, -51.179 3.9...    0.0  \n",
       "4  MULTIPOLYGON (((-39.2882 -8.5629, -39.28229 -8...   44.0  "
      ]
     },
     "execution_count": 16,
     "metadata": {},
     "output_type": "execute_result"
    }
   ],
   "source": [
    "# Renomear a coluna 'sigla' do shapefile para 'UF' para realizar a junção\n",
    "#mapa_brasil = mapa_brasil.rename(columns={'sigla': 'UF'})\n",
    "\n",
    "# Fazer a junção entre o mapa e o número de clientes por estado\n",
    "mapa_brasil = mapa_brasil.join(pd.DataFrame(clientes_por_uf), on='sigla')\n",
    "\n",
    "# Preencher os valores ausentes com 0\n",
    "mapa_brasil['count'].fillna(0, inplace=True)\n",
    "\n",
    "# Exibir o resultado após a junção\n",
    "mapa_brasil.head()\n"
   ]
  },
  {
   "cell_type": "code",
   "execution_count": 17,
   "metadata": {
    "id": "4dI0xUINhF5U"
   },
   "outputs": [
    {
     "name": "stdout",
     "output_type": "stream",
     "text": [
      "Index(['id', 'name', 'sigla', 'regiao_id', 'codigo_ibg', 'cartodb_id',\n",
      "       'created_at', 'updated_at', 'geometry', 'count'],\n",
      "      dtype='object')\n"
     ]
    }
   ],
   "source": [
    "print(mapa_brasil.columns)"
   ]
  },
  {
   "cell_type": "code",
   "execution_count": 18,
   "metadata": {
    "id": "LGGsdeFVgA1o"
   },
   "outputs": [
    {
     "data": {
      "text/plain": [
       "<Figure size 1000x1000 with 0 Axes>"
      ]
     },
     "metadata": {},
     "output_type": "display_data"
    },
    {
     "data": {
      "image/png": "[encoded data removed]",
      "text/plain": [
       "<Figure size 640x480 with 2 Axes>"
      ]
     },
     "metadata": {},
     "output_type": "display_data"
    }
   ],
   "source": [
    "# Criar o mapa de calor usando a contagem de clientes\n",
    "plt.figure(figsize=(10, 10))\n",
    "mapa_brasil.plot(column='count', cmap='OrRd', legend=True, legend_kwds={'label': \"Número de Clientes\", 'orientation': \"horizontal\"})\n",
    "\n",
    "# Personalizar o mapa\n",
    "plt.title('Distribuição Geográfica de Clientes por Estado', fontsize=15)\n",
    "plt.axis('off')  # Remover eixos\n",
    "\n",
    "# Exibir o mapa\n",
    "plt.show()"
   ]
  },
  {
   "cell_type": "markdown",
   "metadata": {
    "id": "QYw09kqFJi5U"
   },
   "source": [
    "**4 - Análise de Outliers de Renda:** Identificar clientes com renda muito superior ou inferior à média para entender padrões atípicos que possam indicar perfis de clientes fora do usual para o negócio."
   ]
  },
  {
   "cell_type": "code",
   "execution_count": 19,
   "metadata": {
    "id": "pjca9LNSXJbC"
   },
   "outputs": [
    {
     "name": "stdout",
     "output_type": "stream",
     "text": [
      "Clientes com renda muito abaixo de 198.77 ou acima de 11921.94:\n",
      "Empty DataFrame\n",
      "Columns: [Nome, Sobrenome, UF, Renda Média, Renda Média Numérica]\n",
      "Index: []\n"
     ]
    }
   ],
   "source": [
    "# Calculando a média e o desvio padrão da coluna de Renda Média Numérica\n",
    "media_renda = df_original['Renda Média Numérica'].mean()\n",
    "desvio_padrao_renda = df_original['Renda Média Numérica'].std()\n",
    "\n",
    "# Limites para outliers (2 desvios-padrão)\n",
    "limite_inferior = media_renda - 2 * desvio_padrao_renda\n",
    "limite_superior = media_renda + 2 * desvio_padrao_renda\n",
    "\n",
    "# Outliers (renda muito alta ou muito baixa)\n",
    "outliers = df_original[(df_original['Renda Média Numérica'] < limite_inferior) | (df_original['Renda Média Numérica'] > limite_superior)]\n",
    "\n",
    "# Exibir o resultado dos outliers\n",
    "print(f'Clientes com renda muito abaixo de {limite_inferior:.2f} ou acima de {limite_superior:.2f}:')\n",
    "print(outliers[['Nome', 'Sobrenome', 'UF', 'Renda Média', 'Renda Média Numérica']])\n"
   ]
  },
  {
   "cell_type": "markdown",
   "metadata": {
    "id": "Iv8xtcvCbqDt"
   },
   "source": [
    "**5 - Correlação entre Renda e Estado Civil:** Avaliar a correlação entre estado civil e renda média, verificando se existe algum padrão que ajude a imobiliária a personalizar suas ofertas."
   ]
  },
  {
   "cell_type": "code",
   "execution_count": 20,
   "metadata": {
    "id": "iTK1ipp7bqcb"
   },
   "outputs": [
    {
     "name": "stdout",
     "output_type": "stream",
     "text": [
      "Correlação entre Estado Civil e Renda: \n",
      "                       Estado Civil Numérico  Renda Média Numérica\n",
      "Estado Civil Numérico               1.000000              0.023209\n",
      "Renda Média Numérica                0.023209              1.000000\n",
      "Média de Renda por Estado Civil:\n",
      "Estado Civil\n",
      "Casado(a)        6091.842553\n",
      "Divorciado(a)    5883.048077\n",
      "Solteiro(a)      6000.350000\n",
      "Viúvo(a)         6270.947059\n",
      "Name: Renda Média Numérica, dtype: float64\n"
     ]
    }
   ],
   "source": [
    "# Estado civil para valores numéricos\n",
    "estado_civil_map = {'Solteiro(a)': 1, 'Casado(a)': 2, 'Divorciado(a)': 3, 'Viúvo(a)': 4}\n",
    "df_original['Estado Civil Numérico'] = df_original['Estado Civil'].map(estado_civil_map)\n",
    "\n",
    "# Calculando a correlação entre estado civil numérico e renda\n",
    "correlacao = df_original[['Estado Civil Numérico', 'Renda Média Numérica']].corr()\n",
    "\n",
    "# Correlação\n",
    "print(f'Correlação entre Estado Civil e Renda: \\n{correlacao}')\n",
    "\n",
    "# Média de renda por estado civil\n",
    "media_renda_estado_civil = df_original.groupby('Estado Civil')['Renda Média Numérica'].mean()\n",
    "print(f'Média de Renda por Estado Civil:\\n{media_renda_estado_civil}')"
   ]
  },
  {
   "cell_type": "code",
   "execution_count": 21,
   "metadata": {
    "id": "KYDvLp8pb6oG"
   },
   "outputs": [
    {
     "data": {
      "image/png": "[encoded data removed]",
      "text/plain": [
       "<Figure size 800x600 with 1 Axes>"
      ]
     },
     "metadata": {},
     "output_type": "display_data"
    }
   ],
   "source": [
    "# Média de renda por estado civil\n",
    "media_renda_estado_civil = df_original.groupby('Estado Civil')['Renda Média Numérica'].mean()\n",
    "\n",
    "# Gráfico de barras para visualizar a média de renda por estado civil\n",
    "plt.figure(figsize=(8, 6))\n",
    "sns.barplot(x=media_renda_estado_civil.index, y=media_renda_estado_civil.values, hue=media_renda_estado_civil.index, palette='viridis', legend=False)\n",
    "\n",
    "# Personalizando o gráfico\n",
    "plt.title('Média de Renda por Estado Civil', fontsize=14)\n",
    "plt.xlabel('Estado Civil', fontsize=12)\n",
    "plt.ylabel('Média de Renda (R$)', fontsize=12)\n",
    "plt.xticks(rotation=45)\n",
    "plt.tight_layout()\n",
    "\n",
    "plt.show()\n"
   ]
  }
 ],
 "metadata": {
  "colab": {
   "provenance": []
  },
  "kernelspec": {
   "display_name": "Python 3",
   "name": "python3"
  },
  "language_info": {
   "codemirror_mode": {
    "name": "ipython",
    "version": 3
   },
   "file_extension": ".py",
   "mimetype": "text/x-python",
   "name": "python",
   "nbconvert_exporter": "python",
   "pygments_lexer": "ipython3",
   "version": "3.12.7"
  }
 },
 "nbformat": 4,
 "nbformat_minor": 0
}
